{
 "cells": [
  {
   "cell_type": "code",
   "execution_count": 6,
   "metadata": {
    "scrolled": false
   },
   "outputs": [
    {
     "name": "stdout",
     "output_type": "stream",
     "text": [
      "compte créé avec succées, vous êtes déjà facturé de frais\n",
      "Le solde du compte de Toto est de 950\n",
      "compte créé avec succées, vous êtes déjà facturé de frais\n",
      "Le solde du compte de Dupont est de 1025\n"
     ]
    }
   ],
   "source": [
    "class CompteBancaire :\n",
    "    def __init__(self,nom = 'Dupont',solde = 1000):\n",
    "        self.nom = nom\n",
    "        self.solde = solde\n",
    "        print(\"compte créé avec succées, vous êtes déjà facturé de frais\")\n",
    "    def depot(self,somme):\n",
    "        self.solde = self.solde + somme\n",
    "    def retrait(self,somme):\n",
    "        self.solde = self.solde - somme \n",
    "    def affiche(self):\n",
    "        print(\"Le solde du compte de {} est de {}\".format(self.nom,self.solde))\n",
    "\n",
    "compte1 = CompteBancaire('Toto',800)\n",
    "compte1.depot(350)\n",
    "compte1.retrait(200)\n",
    "compte1.affiche()\n",
    "compte2 = CompteBancaire()\n",
    "compte2.depot(25)\n",
    "compte2.affiche()\n",
    "        "
   ]
  },
  {
   "cell_type": "code",
   "execution_count": 17,
   "metadata": {
    "scrolled": false
   },
   "outputs": [
    {
     "name": "stdout",
     "output_type": "stream",
     "text": [
      "P(2,3)\n",
      "P(2,-5,3)\n"
     ]
    }
   ],
   "source": [
    "class Point: \n",
    "    \"\"\"\n",
    "        Class Point \n",
    "    \"\"\"\n",
    "    def __init__(self,x:float,y:float,z = None )->None:\n",
    "        self.x = x\n",
    "        self.y = y\n",
    "        self.z = z\n",
    "    def ToString(self)->str:\n",
    "        if(self.z == None):\n",
    "            print(\"P({},{})\".format(self.x,self.y))\n",
    "        else:\n",
    "            print(\"P({},{},{})\".format(self.x,self.y,self.z))\n",
    "            \n",
    "point1 = Point(2,3)\n",
    "point1.ToString()\n",
    "point2 = Point(2,-5,3)\n",
    "point2.ToString()\n",
    "    \n",
    "    "
   ]
  },
  {
   "cell_type": "code",
   "execution_count": null,
   "metadata": {},
   "outputs": [],
   "source": [
    "range()"
   ]
  },
  {
   "cell_type": "code",
   "execution_count": 15,
   "metadata": {
    "scrolled": true
   },
   "outputs": [
    {
     "name": "stdout",
     "output_type": "stream",
     "text": [
      "- Nom: Poirier\n",
      "- Prénom: Mathias\n",
      "- Date de naissance: 24 / 01 / 1995\n",
      "--------------\n",
      "- Nom: Poirier\n",
      "- Prénom: Mathias\n",
      "- Date de naissance: 24 / 01 / 1995\n",
      "Salaire : 2000\n",
      "---------\n",
      "- Nom: Poirier\n",
      "- Prénom: Mathias\n",
      "- Date de naissance: 24 / 01 / 1995\n",
      "Salaire : 2000\n",
      "Service : Devel and expertise\n"
     ]
    }
   ],
   "source": [
    "class Personne :\n",
    "    def __init__(self, nom, prenom, date_naissance) :\n",
    "        self.nom = nom\n",
    "        self.prenom = prenom\n",
    "        self.date_naissance = date_naissance\n",
    "    \n",
    "    def afficher(self):\n",
    "        print(\"- Nom: {}\".format(self.nom))\n",
    "        print(\"- Prénom: {}\".format(self.prenom))\n",
    "        print(\"- Date de naissance: {}\".format(self.date_naissance))\n",
    "class DateNaissance:\n",
    "    def __init__(self, jour, mois, annee) :\n",
    "        self.jour = jour\n",
    "        self.mois = mois\n",
    "        self.annee = annee\n",
    "        \n",
    "    def __str__(self) :\n",
    "        return \"{:0>2d} / {:0>2d} / {}\".format(self.jour, self.mois, self.annee)\n",
    "P=Personne(\"Poirier\",\"Mathias\",DateNaissance(24,1,1995))\n",
    "P.afficher()\n",
    "\n",
    "class Employe(Personne):\n",
    "    def __init__(self, nom, prenom, datenaissance: DateNaissance, salaire):\n",
    "        Personne.__init__(self, nom, prenom, datenaissance)\n",
    "        self.salaire = salaire\n",
    "\n",
    "    def afficher(self):\n",
    "        Personne.afficher(self)\n",
    "        print(\"Salaire : {}\".format(self.salaire))\n",
    "print(\"--------------\")        \n",
    "e = Employe(\"Poirier\",\"Mathias\",DateNaissance(24,1,1995),2000)\n",
    "e.afficher()\n",
    "\n",
    "class Chef(Employe):\n",
    "    def __init__(self, nom, prenom, datenaissance: DateNaissance, salaire, service):\n",
    "        Employe.__init__(self, nom, prenom, datenaissance, salaire)\n",
    "        self.service = service\n",
    "    def afficher(self):\n",
    "        Employe.afficher(self)\n",
    "        print(\"Service : {}\".format(self.service))\n",
    "print(\"---------\")\n",
    "ch = Chef(\"Poirier\",\"Mathias\",DateNaissance(24,1,1995),2000,\"Devel and expertise\")\n",
    "ch.afficher()"
   ]
  },
  {
   "cell_type": "code",
   "execution_count": 3,
   "metadata": {},
   "outputs": [
    {
     "name": "stdout",
     "output_type": "stream",
     "text": [
      "Lettre:\n",
      "Adresse de destination : Toulouse\n",
      "Adresse d'expedition : Paris\n",
      "Poid : 80\n",
      "Format : A4\n",
      "Mode de livraison : standard\n",
      "Prix du timbre : 2.58\n",
      "------------\n",
      "Lettre:\n",
      "Adresse de destination : Toulouse\n",
      "Adresse d'expedition : Paris\n",
      "Poid : 80\n",
      "Format : A4\n",
      "Mode de livraison : express\n",
      "Prix du timbre : 5.16\n"
     ]
    }
   ],
   "source": [
    "class Lettre:\n",
    "    def __init__(self, destination,expedition,poid,livraison = 'express' or 'standard', form = 'A4' or 'A3'):\n",
    "        self.destination = destination\n",
    "        self.expedition = expedition \n",
    "        self.poid = poid\n",
    "        self.livraison = livraison \n",
    "        self.form = form\n",
    "        \n",
    "    def calculTimbre(self):\n",
    "        if(self.form == 'A4'):\n",
    "            timbre = 2.50\n",
    "        else:\n",
    "            timbre = 3.50\n",
    "        if(self.livraison == \"standard\"):\n",
    "            montant = timbre + 1.0 * (self.poid / 1000)\n",
    "            return montant\n",
    "        else:\n",
    "            montant = (timbre + 1.0 * (self.poid / 1000)) * 2 \n",
    "            return montant\n",
    "    def ToString(self):\n",
    "        montant = self.calculTimbre()\n",
    "        print(\"Lettre:\")\n",
    "        print(\"Adresse de destination : {}\".format(self.destination))\n",
    "        print(\"Adresse d'expedition : {}\".format(self.expedition))\n",
    "        print(\"Poid : {}\".format(self.poid))\n",
    "        print(\"Format : {}\".format(self.form))\n",
    "        print(\"Mode de livraison : {}\".format(self.livraison))\n",
    "        print(\"Prix du timbre : {}\".format(montant))\n",
    "l1 = Lettre(\"Toulouse\", \"Paris\", 80,\"standard\", \"A4\")\n",
    "l2 = Lettre(\"Toulouse\", \"Paris\", 80,\"express\", \"A4\")\n",
    "l1.ToString()\n",
    "print(\"------------\")\n",
    "l2.ToString()"
   ]
  },
  {
   "cell_type": "code",
   "execution_count": 48,
   "metadata": {},
   "outputs": [
    {
     "name": "stdout",
     "output_type": "stream",
     "text": [
      "Lettre : \n",
      "Adresse de destination : Toulouse\n",
      "Adresse d'expedition : Paris\n",
      "Poid : 80\n",
      "Format : A4\n",
      "Mode de livraison : standard\n",
      "Montant du timbre : 0.2\n",
      "------------\n",
      "Lettre : \n",
      "Adresse de destination : Toulouse\n",
      "Adresse d'expedition : Paris\n",
      "Poid : 80\n",
      "Format : A4\n",
      "Mode de livraison : express\n",
      "Montant du timbre : 0.4\n",
      "---------\n",
      "Colis : \n",
      "Adresse de destination : Marrakech\n",
      "Adresse d'expedition : Barcelone\n",
      "Poid : 3500\n",
      "Format : None\n",
      "Mode de livraison : express\n",
      "Volumme : 2.25\n",
      "Prix du timbre : 3.9375\n"
     ]
    }
   ],
   "source": [
    "class Expe:\n",
    "    def __init__(self, destination,expedition,poid,mode = 'express' or 'normal', form = None):\n",
    "        self.destination = destination\n",
    "        self.expedition = expedition \n",
    "        self.poid = poid \n",
    "        self.mode = mode \n",
    "        self.form = form\n",
    "    def ToString(self):\n",
    "        print(\"Adresse de destination : {}\".format(self.destination))\n",
    "        print(\"Adresse d'expedition : {}\".format(self.expedition))\n",
    "        print(\"Poid : {}\".format(self.poid))\n",
    "        print(\"Format : {}\".format(self.form))\n",
    "        print(\"Mode de livraison : {}\".format(self.mode))\n",
    "        \n",
    "class Lettre(Expe):\n",
    "    def __init__(self, destination, expedition, poid, mode , form = \"A4\" or \"A3\"):\n",
    "        Expe.__init__(self, destination, expedition, poid, mode, form)\n",
    "        self.timbre = 2.50 if self.form == \"A4\" else 3.50\n",
    "    def calculTimbre(self):\n",
    "        montant = self.timbre * (self.poid / 1000)\n",
    "        if(self.mode == \"express\"):\n",
    "            montant = montant * 2\n",
    "        \n",
    "        return montant\n",
    "    def ToString(self):\n",
    "        montant = self.calculTimbre()\n",
    "        print(\"Lettre : \")\n",
    "        Expe.ToString(self)\n",
    "        print(\"Montant du timbre : {}\".format(montant))\n",
    "class Colis(Expe):\n",
    "    def __init__(self, destination, expedition, poid, mode , volumme):\n",
    "        Expe.__init__(self, destination, expedition, poid, mode)\n",
    "        self.volumme = volumme\n",
    "        self.timbre = 0.25\n",
    "    def calculTimbre(self):\n",
    "        montant = 0.25 * self.volumme * (self.poid / 1000) \n",
    "        if (self.mode == \"express\"):\n",
    "            montant = montant *2\n",
    "        return montant\n",
    "    def ToString(self):\n",
    "        montant = self.calculTimbre()\n",
    "        print(\"Colis : \")\n",
    "        Expe.ToString(self)\n",
    "        print(\"Volumme : {}\".format(self.volumme))\n",
    "        print(\"Prix du timbre : {}\".format(montant))\n",
    "\n",
    "l1 = Lettre(\"Toulouse\", \"Paris\", 80,\"standard\", \"A4\")\n",
    "l2 = Lettre(\"Toulouse\", \"Paris\", 80,\"express\", \"A4\")\n",
    "l1.ToString()\n",
    "print(\"------------\")\n",
    "l2.ToString()       \n",
    "print(\"---------\")\n",
    "c1 = Colis(\"Marrakech\",\"Barcelone\",3500,\"express\",2.25)\n",
    "c1.ToString()\n"
   ]
  },
  {
   "cell_type": "code",
   "execution_count": null,
   "metadata": {},
   "outputs": [],
   "source": []
  },
  {
   "cell_type": "code",
   "execution_count": null,
   "metadata": {},
   "outputs": [],
   "source": []
  },
  {
   "cell_type": "code",
   "execution_count": null,
   "metadata": {},
   "outputs": [],
   "source": []
  },
  {
   "cell_type": "code",
   "execution_count": null,
   "metadata": {},
   "outputs": [],
   "source": []
  }
 ],
 "metadata": {
  "kernelspec": {
   "display_name": "Python 3",
   "language": "python",
   "name": "python3"
  },
  "language_info": {
   "codemirror_mode": {
    "name": "ipython",
    "version": 3
   },
   "file_extension": ".py",
   "mimetype": "text/x-python",
   "name": "python",
   "nbconvert_exporter": "python",
   "pygments_lexer": "ipython3",
   "version": "3.8.3"
  }
 },
 "nbformat": 4,
 "nbformat_minor": 4
}
