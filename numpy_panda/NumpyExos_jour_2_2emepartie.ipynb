{
 "cells": [
  {
   "cell_type": "code",
   "execution_count": 2,
   "metadata": {},
   "outputs": [],
   "source": [
    "import numpy as np"
   ]
  },
  {
   "cell_type": "markdown",
   "metadata": {},
   "source": [
    "# Quelques fonctions utiles"
   ]
  },
  {
   "cell_type": "markdown",
   "metadata": {},
   "source": [
    "On a créé un tableau 2D `rdm_mat` contenant des valeurs aléatoires. "
   ]
  },
  {
   "cell_type": "code",
   "execution_count": 7,
   "metadata": {},
   "outputs": [
    {
     "name": "stdout",
     "output_type": "stream",
     "text": [
      "[[8 8]\n",
      " [6 4]]\n"
     ]
    }
   ],
   "source": [
    "import numpy as np\n",
    "rdm_mat = np.random.random((2,2))\n",
    "rdm_mat = rdm_mat * 10\n",
    "rdm_mat = np.array(rdm_mat, dtype='int')\n",
    "print(rdm_mat)"
   ]
  },
  {
   "cell_type": "markdown",
   "metadata": {},
   "source": [
    "Donner le type de la variable rdm_mat"
   ]
  },
  {
   "cell_type": "code",
   "execution_count": 8,
   "metadata": {},
   "outputs": [
    {
     "name": "stdout",
     "output_type": "stream",
     "text": [
      "int32\n"
     ]
    }
   ],
   "source": [
    "typ = rdm_mat.dtype\n",
    "print(typ)"
   ]
  },
  {
   "cell_type": "markdown",
   "metadata": {},
   "source": [
    "Donner la somme des éléments de ce tableau 2D"
   ]
  },
  {
   "cell_type": "code",
   "execution_count": 10,
   "metadata": {},
   "outputs": [
    {
     "name": "stdout",
     "output_type": "stream",
     "text": [
      "[[8 8]\n",
      " [6 4]]\n"
     ]
    },
    {
     "data": {
      "text/plain": [
       "26"
      ]
     },
     "execution_count": 10,
     "metadata": {},
     "output_type": "execute_result"
    }
   ],
   "source": [
    "somme = np.sum(rdm_mat)\n",
    "print(rdm_mat)\n",
    "somme"
   ]
  },
  {
   "cell_type": "markdown",
   "metadata": {},
   "source": [
    "Faire en sorte de récupérer la valeur maximale sur chaque ligne (sans boucles) avec la fonction np.max"
   ]
  },
  {
   "cell_type": "code",
   "execution_count": 11,
   "metadata": {},
   "outputs": [
    {
     "name": "stdout",
     "output_type": "stream",
     "text": [
      "[[8 8]\n",
      " [6 4]]\n",
      "8\n",
      "8\n",
      "4\n",
      "6\n"
     ]
    }
   ],
   "source": [
    "print(rdm_mat)\n",
    "max1 = rdm_mat[0].max()\n",
    "max2 = rdm_mat[1].max()\n",
    "print(max1);print(max2)"
   ]
  },
  {
   "cell_type": "markdown",
   "metadata": {},
   "source": [
    "Faire de même pour récupérer la valeur maximum pour chaque colonne (sans boucles)"
   ]
  },
  {
   "cell_type": "code",
   "execution_count": 14,
   "metadata": {},
   "outputs": [
    {
     "name": "stdout",
     "output_type": "stream",
     "text": [
      "[[8 8]\n",
      " [6 4]]\n",
      "8\n",
      "8\n"
     ]
    }
   ],
   "source": [
    "print(rdm_mat)\n",
    "max1 = rdm_mat[:,0].max()\n",
    "max2 = rdm_mat[:,1].max()\n",
    "print(max1);print(max2)"
   ]
  },
  {
   "cell_type": "markdown",
   "metadata": {},
   "source": [
    "Faire la même chose (max des lignes) en définissant un tableau avec une boucle for et la fonction max de numpy"
   ]
  },
  {
   "cell_type": "code",
   "execution_count": null,
   "metadata": {},
   "outputs": [],
   "source": []
  },
  {
   "cell_type": "code",
   "execution_count": null,
   "metadata": {},
   "outputs": [],
   "source": []
  },
  {
   "cell_type": "code",
   "execution_count": null,
   "metadata": {},
   "outputs": [],
   "source": []
  },
  {
   "cell_type": "markdown",
   "metadata": {},
   "source": [
    "On crée un vecteur aléatoire de taille 100 `rdm_vect`"
   ]
  },
  {
   "cell_type": "code",
   "execution_count": 21,
   "metadata": {},
   "outputs": [
    {
     "data": {
      "text/plain": [
       "array([ 1.26361690e+00, -1.49203394e+00,  8.67675018e-01, -1.59341200e-01,\n",
       "        5.32104566e-01,  3.23587546e-01,  3.04577999e-01, -1.29664769e+00,\n",
       "        1.13342058e+00,  2.46976001e-01, -5.57261982e-01, -5.40136683e-01,\n",
       "        2.48501097e+00,  5.29361413e-01,  1.25212002e+00,  6.24236602e-01,\n",
       "        6.32070350e-01, -5.53560135e-01, -6.74207828e-01, -3.91036017e-01,\n",
       "        7.12262218e-01,  8.99757751e-01, -1.46588963e+00, -9.95014114e-01,\n",
       "       -9.70050465e-05,  9.73068494e-02, -1.19371105e+00, -6.39720254e-01,\n",
       "       -1.14249208e+00,  9.72621485e-01,  5.34132966e-01, -7.82360847e-01,\n",
       "       -8.83175186e-01, -9.65768368e-01,  3.28677696e-01, -9.11806655e-01,\n",
       "       -1.30656607e+00, -7.01007445e-01,  1.19967087e+00, -3.39237832e-01,\n",
       "       -4.09474865e-01, -5.00342817e-01, -1.07515085e+00,  6.44145675e-01,\n",
       "       -1.82818033e+00, -6.49086927e-01,  9.69349135e-01, -1.72369604e+00,\n",
       "       -5.21777585e-01,  5.96848107e-01,  2.81452728e-01, -5.81856779e-01,\n",
       "       -8.73538451e-01,  6.74527910e-01, -1.93270138e+00, -2.74100241e-01,\n",
       "       -3.59401530e-01,  9.34987703e-01,  5.01479702e-01, -6.64280015e-01,\n",
       "        2.42689709e+00, -6.76774147e-01, -3.24446102e-01,  1.75558693e+00,\n",
       "       -6.68140955e-01, -1.83715945e+00, -3.07162034e-01,  1.09892147e+00,\n",
       "        1.04220988e-01, -1.40705881e+00, -2.76422344e-01, -4.31263841e-01,\n",
       "        1.04270028e+00,  2.97231872e-01, -5.89448561e-01,  4.27124834e-01,\n",
       "       -2.45078297e-01,  1.26543925e+00, -2.16962953e+00,  1.56852214e+00,\n",
       "        8.10870121e-02, -1.19080605e+00,  2.07481569e+00, -1.23257127e+00,\n",
       "       -6.31704636e-01, -1.44083545e+00,  5.69178968e-02,  2.13162045e+00,\n",
       "        1.38063200e+00,  2.49828984e+00, -1.48665511e+00,  1.52247891e+00,\n",
       "       -1.41282944e+00,  9.19977665e-01, -6.53192781e-01, -6.67118474e-01,\n",
       "       -1.97535730e+00, -5.88355734e-02, -3.35266274e-02, -1.74070408e+00])"
      ]
     },
     "execution_count": 21,
     "metadata": {},
     "output_type": "execute_result"
    }
   ],
   "source": [
    "rdm_vect = np.random.randn(100)\n",
    "#rdm_vect.shape(np.array(rdm_mat),100)\n",
    "rdm_vect"
   ]
  },
  {
   "cell_type": "markdown",
   "metadata": {},
   "source": [
    "Récupérer la position de la valeur maximale du vecteur avec la méthode np.argmax"
   ]
  },
  {
   "cell_type": "code",
   "execution_count": 24,
   "metadata": {},
   "outputs": [
    {
     "data": {
      "text/plain": [
       "89"
      ]
     },
     "execution_count": 24,
     "metadata": {},
     "output_type": "execute_result"
    }
   ],
   "source": [
    "np.argmax(rdm_vect)\n"
   ]
  },
  {
   "cell_type": "markdown",
   "metadata": {},
   "source": [
    "Afficher cette valeur "
   ]
  },
  {
   "cell_type": "code",
   "execution_count": 27,
   "metadata": {},
   "outputs": [
    {
     "data": {
      "text/plain": [
       "2.498289843449232"
      ]
     },
     "execution_count": 27,
     "metadata": {},
     "output_type": "execute_result"
    }
   ],
   "source": [
    "rdm_vect.max()"
   ]
  },
  {
   "cell_type": "markdown",
   "metadata": {},
   "source": [
    "Convertir le vecteur en un tableau 10, 10"
   ]
  },
  {
   "cell_type": "code",
   "execution_count": 29,
   "metadata": {},
   "outputs": [
    {
     "data": {
      "text/plain": [
       "array([[ 1.26361690e+00, -1.49203394e+00,  8.67675018e-01,\n",
       "        -1.59341200e-01,  5.32104566e-01,  3.23587546e-01,\n",
       "         3.04577999e-01, -1.29664769e+00,  1.13342058e+00,\n",
       "         2.46976001e-01],\n",
       "       [-5.57261982e-01, -5.40136683e-01,  2.48501097e+00,\n",
       "         5.29361413e-01,  1.25212002e+00,  6.24236602e-01,\n",
       "         6.32070350e-01, -5.53560135e-01, -6.74207828e-01,\n",
       "        -3.91036017e-01],\n",
       "       [ 7.12262218e-01,  8.99757751e-01, -1.46588963e+00,\n",
       "        -9.95014114e-01, -9.70050465e-05,  9.73068494e-02,\n",
       "        -1.19371105e+00, -6.39720254e-01, -1.14249208e+00,\n",
       "         9.72621485e-01],\n",
       "       [ 5.34132966e-01, -7.82360847e-01, -8.83175186e-01,\n",
       "        -9.65768368e-01,  3.28677696e-01, -9.11806655e-01,\n",
       "        -1.30656607e+00, -7.01007445e-01,  1.19967087e+00,\n",
       "        -3.39237832e-01],\n",
       "       [-4.09474865e-01, -5.00342817e-01, -1.07515085e+00,\n",
       "         6.44145675e-01, -1.82818033e+00, -6.49086927e-01,\n",
       "         9.69349135e-01, -1.72369604e+00, -5.21777585e-01,\n",
       "         5.96848107e-01],\n",
       "       [ 2.81452728e-01, -5.81856779e-01, -8.73538451e-01,\n",
       "         6.74527910e-01, -1.93270138e+00, -2.74100241e-01,\n",
       "        -3.59401530e-01,  9.34987703e-01,  5.01479702e-01,\n",
       "        -6.64280015e-01],\n",
       "       [ 2.42689709e+00, -6.76774147e-01, -3.24446102e-01,\n",
       "         1.75558693e+00, -6.68140955e-01, -1.83715945e+00,\n",
       "        -3.07162034e-01,  1.09892147e+00,  1.04220988e-01,\n",
       "        -1.40705881e+00],\n",
       "       [-2.76422344e-01, -4.31263841e-01,  1.04270028e+00,\n",
       "         2.97231872e-01, -5.89448561e-01,  4.27124834e-01,\n",
       "        -2.45078297e-01,  1.26543925e+00, -2.16962953e+00,\n",
       "         1.56852214e+00],\n",
       "       [ 8.10870121e-02, -1.19080605e+00,  2.07481569e+00,\n",
       "        -1.23257127e+00, -6.31704636e-01, -1.44083545e+00,\n",
       "         5.69178968e-02,  2.13162045e+00,  1.38063200e+00,\n",
       "         2.49828984e+00],\n",
       "       [-1.48665511e+00,  1.52247891e+00, -1.41282944e+00,\n",
       "         9.19977665e-01, -6.53192781e-01, -6.67118474e-01,\n",
       "        -1.97535730e+00, -5.88355734e-02, -3.35266274e-02,\n",
       "        -1.74070408e+00]])"
      ]
     },
     "execution_count": 29,
     "metadata": {},
     "output_type": "execute_result"
    }
   ],
   "source": [
    "rdm_vect.reshape(10,10)"
   ]
  },
  {
   "cell_type": "markdown",
   "metadata": {},
   "source": [
    "Calculer la moyenne de chaque ligne de ce tableau (sans boucles)"
   ]
  },
  {
   "cell_type": "code",
   "execution_count": 41,
   "metadata": {},
   "outputs": [
    {
     "data": {
      "text/plain": [
       "array([-0.09646938, -0.09646938, -0.09646938, -0.09646938, -0.09646938,\n",
       "       -0.09646938, -0.09646938, -0.09646938, -0.09646938, -0.09646938])"
      ]
     },
     "execution_count": 41,
     "metadata": {},
     "output_type": "execute_result"
    }
   ],
   "source": [
    "moy = np.repeat(np.mean(rdm_vect),10)\n",
    "moy"
   ]
  },
  {
   "cell_type": "markdown",
   "metadata": {},
   "source": [
    "Faire un tableau qui contient la moyenne de chaque colonne du tableau "
   ]
  },
  {
   "cell_type": "markdown",
   "metadata": {},
   "source": [
    "Calculer la somme de chaque colonne (sans boucles)"
   ]
  },
  {
   "cell_type": "code",
   "execution_count": 38,
   "metadata": {},
   "outputs": [
    {
     "data": {
      "text/plain": [
       "array([-9.64693759, -9.64693759, -9.64693759, -9.64693759, -9.64693759,\n",
       "       -9.64693759, -9.64693759, -9.64693759, -9.64693759, -9.64693759])"
      ]
     },
     "execution_count": 38,
     "metadata": {},
     "output_type": "execute_result"
    }
   ],
   "source": []
  },
  {
   "cell_type": "markdown",
   "metadata": {},
   "source": [
    "Calculer la somme pour chaque ligne (sans boucles)"
   ]
  },
  {
   "cell_type": "code",
   "execution_count": 24,
   "metadata": {},
   "outputs": [
    {
     "data": {
      "text/plain": [
       "array([-2.45928276e+00,  3.30057119e+00, -6.94069374e-01,  1.16367130e-01,\n",
       "       -7.35080583e-01,  1.78359994e-03, -1.12472416e+00,  9.99337195e+00,\n",
       "       -1.69671892e+00,  1.56672647e+00])"
      ]
     },
     "execution_count": 24,
     "metadata": {},
     "output_type": "execute_result"
    }
   ],
   "source": []
  },
  {
   "cell_type": "code",
   "execution_count": null,
   "metadata": {},
   "outputs": [],
   "source": []
  }
 ],
 "metadata": {
  "kernelspec": {
   "display_name": "Python 3",
   "language": "python",
   "name": "python3"
  },
  "language_info": {
   "codemirror_mode": {
    "name": "ipython",
    "version": 3
   },
   "file_extension": ".py",
   "mimetype": "text/x-python",
   "name": "python",
   "nbconvert_exporter": "python",
   "pygments_lexer": "ipython3",
   "version": "3.8.3"
  },
  "latex_envs": {
   "LaTeX_envs_menu_present": true,
   "autoclose": false,
   "autocomplete": true,
   "bibliofile": "biblio.bib",
   "cite_by": "apalike",
   "current_citInitial": 1,
   "eqLabelWithNumbers": true,
   "eqNumInitial": 1,
   "hotkeys": {
    "equation": "Ctrl-E",
    "itemize": "Ctrl-I"
   },
   "labels_anchors": false,
   "latex_user_defs": false,
   "report_style_numbering": false,
   "user_envs_cfg": false
  },
  "toc": {
   "base_numbering": 1,
   "nav_menu": {},
   "number_sections": true,
   "sideBar": true,
   "skip_h1_title": false,
   "title_cell": "Table of Contents",
   "title_sidebar": "Contents",
   "toc_cell": false,
   "toc_position": {},
   "toc_section_display": true,
   "toc_window_display": false
  },
  "varInspector": {
   "cols": {
    "lenName": 16,
    "lenType": 16,
    "lenVar": 40
   },
   "kernels_config": {
    "python": {
     "delete_cmd_postfix": "",
     "delete_cmd_prefix": "del ",
     "library": "var_list.py",
     "varRefreshCmd": "print(var_dic_list())"
    },
    "r": {
     "delete_cmd_postfix": ") ",
     "delete_cmd_prefix": "rm(",
     "library": "var_list.r",
     "varRefreshCmd": "cat(var_dic_list()) "
    }
   },
   "types_to_exclude": [
    "module",
    "function",
    "builtin_function_or_method",
    "instance",
    "_Feature"
   ],
   "window_display": false
  }
 },
 "nbformat": 4,
 "nbformat_minor": 2
}
