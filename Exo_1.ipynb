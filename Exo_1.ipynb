{
 "cells": [
  {
   "cell_type": "code",
   "execution_count": 6,
   "metadata": {
    "scrolled": false
   },
   "outputs": [
    {
     "name": "stdout",
     "output_type": "stream",
     "text": [
      "compte créé avec succées, vous êtes déjà facturé de frais\n",
      "Le solde du compte de Toto est de 950\n",
      "compte créé avec succées, vous êtes déjà facturé de frais\n",
      "Le solde du compte de Dupont est de 1025\n"
     ]
    }
   ],
   "source": [
    "class CompteBancaire :\n",
    "    def __init__(self,nom = 'Dupont',solde = 1000):\n",
    "        self.nom = nom\n",
    "        self.solde = solde\n",
    "        print(\"compte créé avec succées, vous êtes déjà facturé de frais\")\n",
    "    def depot(self,somme):\n",
    "        self.solde = self.solde + somme\n",
    "    def retrait(self,somme):\n",
    "        self.solde = self.solde - somme \n",
    "    def affiche(self):\n",
    "        print(\"Le solde du compte de {} est de {}\".format(self.nom,self.solde))\n",
    "\n",
    "compte1 = CompteBancaire('Toto',800)\n",
    "compte1.depot(350)\n",
    "compte1.retrait(200)\n",
    "compte1.affiche()\n",
    "compte2 = CompteBancaire()\n",
    "compte2.depot(25)\n",
    "compte2.affiche()\n",
    "        "
   ]
  },
  {
   "cell_type": "code",
   "execution_count": 2,
   "metadata": {
    "scrolled": true
   },
   "outputs": [
    {
     "name": "stdout",
     "output_type": "stream",
     "text": [
      "P(2,3)\n",
      "P(2,-5,3)\n"
     ]
    }
   ],
   "source": [
    "class Point:\n",
    "    def __init__(self,x,y,z = None ):\n",
    "        self.x = x\n",
    "        self.y = y\n",
    "        self.z = z\n",
    "    def ToString(self):\n",
    "        if(self.z == None):\n",
    "            print(\"P({},{})\".format(self.x,self.y))\n",
    "        else:\n",
    "            print(\"P({},{},{})\".format(self.x,self.y,self.z))\n",
    "point1 = Point(2,3)\n",
    "point1.ToString()\n",
    "point2 = Point(2,-5,3)\n",
    "point2.ToString()\n",
    "    \n",
    "    "
   ]
  },
  {
   "cell_type": "code",
   "execution_count": 15,
   "metadata": {
    "scrolled": true
   },
   "outputs": [
    {
     "name": "stdout",
     "output_type": "stream",
     "text": [
      "- Nom: Poirier\n",
      "- Prénom: Mathias\n",
      "- Date de naissance: 24 / 01 / 1995\n",
      "--------------\n",
      "- Nom: Poirier\n",
      "- Prénom: Mathias\n",
      "- Date de naissance: 24 / 01 / 1995\n",
      "Salaire : 2000\n",
      "---------\n",
      "- Nom: Poirier\n",
      "- Prénom: Mathias\n",
      "- Date de naissance: 24 / 01 / 1995\n",
      "Salaire : 2000\n",
      "Service : Devel and expertise\n"
     ]
    }
   ],
   "source": [
    "class Personne :\n",
    "    def __init__(self, nom, prenom, date_naissance) :\n",
    "        self.nom = nom\n",
    "        self.prenom = prenom\n",
    "        self.date_naissance = date_naissance\n",
    "    \n",
    "    def afficher(self):\n",
    "        print(\"- Nom: {}\".format(self.nom))\n",
    "        print(\"- Prénom: {}\".format(self.prenom))\n",
    "        print(\"- Date de naissance: {}\".format(self.date_naissance))\n",
    "class DateNaissance:\n",
    "    def __init__(self, jour, mois, annee) :\n",
    "        self.jour = jour\n",
    "        self.mois = mois\n",
    "        self.annee = annee\n",
    "        \n",
    "    def __str__(self) :\n",
    "        return \"{:0>2d} / {:0>2d} / {}\".format(self.jour, self.mois, self.annee)\n",
    "P=Personne(\"Poirier\",\"Mathias\",DateNaissance(24,1,1995))\n",
    "P.afficher()\n",
    "\n",
    "class Employe(Personne):\n",
    "    def __init__(self, nom, prenom, datenaissance: DateNaissance, salaire):\n",
    "        Personne.__init__(self, nom, prenom, datenaissance)\n",
    "        self.salaire = salaire\n",
    "\n",
    "    def afficher(self):\n",
    "        Personne.afficher(self)\n",
    "        print(\"Salaire : {}\".format(self.salaire))\n",
    "print(\"--------------\")        \n",
    "e = Employe(\"Poirier\",\"Mathias\",DateNaissance(24,1,1995),2000)\n",
    "e.afficher()\n",
    "\n",
    "class Chef(Employe):\n",
    "    def __init__(self, nom, prenom, datenaissance: DateNaissance, salaire, service):\n",
    "        Employe.__init__(self, nom, prenom, datenaissance, salaire)\n",
    "        self.service = service\n",
    "    def afficher(self):\n",
    "        Employe.afficher(self)\n",
    "        print(\"Service : {}\".format(self.service))\n",
    "print(\"---------\")\n",
    "ch = Chef(\"Poirier\",\"Mathias\",DateNaissance(24,1,1995),2000,\"Devel and expertise\")\n",
    "ch.afficher()"
   ]
  },
  {
   "cell_type": "code",
   "execution_count": null,
   "metadata": {},
   "outputs": [],
   "source": []
  }
 ],
 "metadata": {
  "kernelspec": {
   "display_name": "Python 3",
   "language": "python",
   "name": "python3"
  },
  "language_info": {
   "codemirror_mode": {
    "name": "ipython",
    "version": 3
   },
   "file_extension": ".py",
   "mimetype": "text/x-python",
   "name": "python",
   "nbconvert_exporter": "python",
   "pygments_lexer": "ipython3",
   "version": "3.8.3"
  }
 },
 "nbformat": 4,
 "nbformat_minor": 4
}
